{
 "cells": [
  {
   "cell_type": "markdown",
   "metadata": {},
   "source": [
    "<center>\n",
    "<img src=\"logo.png\" height=\"900\"> \n",
    "</center>\n",
    "\n",
    "\n",
    "#  Обсчёт АБ-теста"
   ]
  },
  {
   "cell_type": "code",
   "execution_count": 1,
   "metadata": {},
   "outputs": [],
   "source": [
    "import numpy as np\n",
    "import pandas as pd\n",
    "import seaborn as sns\n",
    "import scipy.stats as sts\n",
    "import matplotlib.pyplot as plt\n",
    "\n",
    "plt.style.use('ggplot')\n",
    "%matplotlib inline"
   ]
  },
  {
   "cell_type": "markdown",
   "metadata": {},
   "source": [
    "Давайте представим, что у нас с вами есть сервис, который работает по подписке (онлайн игра, стриминговый сервис, например). Один из важных факторов успешности бизнеса в таком случае - это удержание пользователей, нам надо придумать, как заинтересовать пользователя в продлении подпсики. Возникла идея дать скидку в $1\\%$ на продление подписки. Чтобы оценить эфект от этой идеи мы как-то разбили пользователей, которые купили подписку за период теста, на две группы и одним дали скидку на продление, а другим нет."
   ]
  },
  {
   "cell_type": "code",
   "execution_count": 2,
   "metadata": {
    "scrolled": true
   },
   "outputs": [
    {
     "name": "stdout",
     "output_type": "stream",
     "text": [
      "(25935, 10)\n"
     ]
    },
    {
     "data": {
      "text/html": [
       "<div>\n",
       "<style scoped>\n",
       "    .dataframe tbody tr th:only-of-type {\n",
       "        vertical-align: middle;\n",
       "    }\n",
       "\n",
       "    .dataframe tbody tr th {\n",
       "        vertical-align: top;\n",
       "    }\n",
       "\n",
       "    .dataframe thead th {\n",
       "        text-align: right;\n",
       "    }\n",
       "</style>\n",
       "<table border=\"1\" class=\"dataframe\">\n",
       "  <thead>\n",
       "    <tr style=\"text-align: right;\">\n",
       "      <th></th>\n",
       "      <th>user_id</th>\n",
       "      <th>service_id</th>\n",
       "      <th>product_name</th>\n",
       "      <th>product_duration</th>\n",
       "      <th>rn</th>\n",
       "      <th>sale_date</th>\n",
       "      <th>last_duration_days</th>\n",
       "      <th>new_duration_days</th>\n",
       "      <th>is_same</th>\n",
       "      <th>group</th>\n",
       "    </tr>\n",
       "  </thead>\n",
       "  <tbody>\n",
       "    <tr>\n",
       "      <th>0</th>\n",
       "      <td>47233</td>\n",
       "      <td>929</td>\n",
       "      <td>subscription</td>\n",
       "      <td>1_month</td>\n",
       "      <td>1</td>\n",
       "      <td>2018-12-21</td>\n",
       "      <td>30.0</td>\n",
       "      <td>30</td>\n",
       "      <td>1</td>\n",
       "      <td>0</td>\n",
       "    </tr>\n",
       "    <tr>\n",
       "      <th>1</th>\n",
       "      <td>50195</td>\n",
       "      <td>929</td>\n",
       "      <td>subscription</td>\n",
       "      <td>1_month</td>\n",
       "      <td>1</td>\n",
       "      <td>2019-03-17</td>\n",
       "      <td>30.0</td>\n",
       "      <td>30</td>\n",
       "      <td>1</td>\n",
       "      <td>1</td>\n",
       "    </tr>\n",
       "    <tr>\n",
       "      <th>2</th>\n",
       "      <td>62594</td>\n",
       "      <td>929</td>\n",
       "      <td>subscription</td>\n",
       "      <td>1_month</td>\n",
       "      <td>1</td>\n",
       "      <td>2019-02-08</td>\n",
       "      <td>30.0</td>\n",
       "      <td>30</td>\n",
       "      <td>1</td>\n",
       "      <td>0</td>\n",
       "    </tr>\n",
       "    <tr>\n",
       "      <th>3</th>\n",
       "      <td>68918</td>\n",
       "      <td>929</td>\n",
       "      <td>subscription</td>\n",
       "      <td>1_month</td>\n",
       "      <td>2</td>\n",
       "      <td>2019-03-19</td>\n",
       "      <td>30.0</td>\n",
       "      <td>30</td>\n",
       "      <td>1</td>\n",
       "      <td>1</td>\n",
       "    </tr>\n",
       "    <tr>\n",
       "      <th>4</th>\n",
       "      <td>91900</td>\n",
       "      <td>929</td>\n",
       "      <td>subscription</td>\n",
       "      <td>3_month</td>\n",
       "      <td>1</td>\n",
       "      <td>2018-10-29</td>\n",
       "      <td>30.0</td>\n",
       "      <td>90</td>\n",
       "      <td>0</td>\n",
       "      <td>0</td>\n",
       "    </tr>\n",
       "  </tbody>\n",
       "</table>\n",
       "</div>"
      ],
      "text/plain": [
       "   user_id  service_id  product_name product_duration  rn   sale_date  \\\n",
       "0    47233         929  subscription          1_month   1  2018-12-21   \n",
       "1    50195         929  subscription          1_month   1  2019-03-17   \n",
       "2    62594         929  subscription          1_month   1  2019-02-08   \n",
       "3    68918         929  subscription          1_month   2  2019-03-19   \n",
       "4    91900         929  subscription          3_month   1  2018-10-29   \n",
       "\n",
       "   last_duration_days  new_duration_days  is_same  group  \n",
       "0                30.0                 30        1      0  \n",
       "1                30.0                 30        1      1  \n",
       "2                30.0                 30        1      0  \n",
       "3                30.0                 30        1      1  \n",
       "4                30.0                 90        0      0  "
      ]
     },
     "execution_count": 2,
     "metadata": {},
     "output_type": "execute_result"
    }
   ],
   "source": [
    "df1 = pd.read_csv('subscribers_1.csv', sep=',')\n",
    "print(df1.shape)\n",
    "df1.head( )"
   ]
  },
  {
   "cell_type": "markdown",
   "metadata": {},
   "source": [
    "* `rn` - порядковый номер покупки подписки за период.  \n",
    "* `last_duration_days` - длительность предыдущей подписки.\n",
    "* `new_duration_days` - длительность текущей подписки.\n",
    "* `is_same` - менялась ли длительность подписки.\n",
    "* `group` - группа теста, в которую попал пользователь. 1 - тест, 0 - контроль."
   ]
  },
  {
   "cell_type": "markdown",
   "metadata": {},
   "source": [
    "__а)__ Обсчитайте результаты АБ-теста. Найдите разницу между старой и новой длительностями подписки. Постройте для этой разницы гистограмму. Подумайте и дайте себе ответ на следующие вопросы:\n",
    "\n",
    "- Можно ли воспользоваться предпосылкой о нормальности распределения приростов и проверить гипотезу тестом Уэлча? \n",
    "- Переменная, для которой мы проводим тест имеет дискретное распределение. Можно ли здесь использовать тест Манна-Уитни? Даст ли это коректный результат? \n",
    "- Будет ли корректно использовать для проверки гипотезы ЦПТ и тест о равенстве средних, основанный на ней? "
   ]
  },
  {
   "cell_type": "code",
   "execution_count": 3,
   "metadata": {
    "deletable": false,
    "nbgrader": {
     "cell_type": "code",
     "checksum": "0fe5480859f0bca14a42243b85755151",
     "grade": false,
     "grade_id": "cell-bdd9e5329b3db1a1",
     "locked": false,
     "schema_version": 3,
     "solution": true,
     "task": false
    }
   },
   "outputs": [],
   "source": [
    "### ╰( ͡° ͜ʖ ͡° )つ▬▬ι═══════  bzzzzzzzzzz\n",
    "# will the code be with you\n",
    "\n",
    "# your code here\n",
    "df1['differ'] = df1.new_duration_days - df1.last_duration_days"
   ]
  },
  {
   "cell_type": "code",
   "execution_count": 4,
   "metadata": {},
   "outputs": [
    {
     "data": {
      "image/png": "[encoded data removed]",
      "text/plain": [
       "<Figure size 432x288 with 1 Axes>"
      ]
     },
     "metadata": {
      "needs_background": "light"
     },
     "output_type": "display_data"
    }
   ],
   "source": [
    "df1.differ.hist()\n",
    "plt.show()"
   ]
  },
  {
   "cell_type": "markdown",
   "metadata": {},
   "source": [
    "Правда ли, что средняя длительность подписки изменилась на $1\\%$ уровне значимости? Для ответа на этот вопрос воспользуйтесь асимптотическим тестом на равенство средних против двусторонней альтернативы. Сохраните в переменную `z_obs` получившееся значение статистики, а в `pvalue` получившееся $p$-значение."
   ]
  },
  {
   "cell_type": "code",
   "execution_count": 5,
   "metadata": {},
   "outputs": [
    {
     "data": {
      "text/html": [
       "<div>\n",
       "<style scoped>\n",
       "    .dataframe tbody tr th:only-of-type {\n",
       "        vertical-align: middle;\n",
       "    }\n",
       "\n",
       "    .dataframe tbody tr th {\n",
       "        vertical-align: top;\n",
       "    }\n",
       "\n",
       "    .dataframe thead th {\n",
       "        text-align: right;\n",
       "    }\n",
       "</style>\n",
       "<table border=\"1\" class=\"dataframe\">\n",
       "  <thead>\n",
       "    <tr style=\"text-align: right;\">\n",
       "      <th></th>\n",
       "      <th>user_id</th>\n",
       "      <th>service_id</th>\n",
       "      <th>product_name</th>\n",
       "      <th>product_duration</th>\n",
       "      <th>rn</th>\n",
       "      <th>sale_date</th>\n",
       "      <th>last_duration_days</th>\n",
       "      <th>new_duration_days</th>\n",
       "      <th>is_same</th>\n",
       "      <th>group</th>\n",
       "      <th>differ</th>\n",
       "    </tr>\n",
       "  </thead>\n",
       "  <tbody>\n",
       "    <tr>\n",
       "      <th>0</th>\n",
       "      <td>47233</td>\n",
       "      <td>929</td>\n",
       "      <td>subscription</td>\n",
       "      <td>1_month</td>\n",
       "      <td>1</td>\n",
       "      <td>2018-12-21</td>\n",
       "      <td>30.0</td>\n",
       "      <td>30</td>\n",
       "      <td>1</td>\n",
       "      <td>0</td>\n",
       "      <td>0.0</td>\n",
       "    </tr>\n",
       "    <tr>\n",
       "      <th>1</th>\n",
       "      <td>50195</td>\n",
       "      <td>929</td>\n",
       "      <td>subscription</td>\n",
       "      <td>1_month</td>\n",
       "      <td>1</td>\n",
       "      <td>2019-03-17</td>\n",
       "      <td>30.0</td>\n",
       "      <td>30</td>\n",
       "      <td>1</td>\n",
       "      <td>1</td>\n",
       "      <td>0.0</td>\n",
       "    </tr>\n",
       "    <tr>\n",
       "      <th>2</th>\n",
       "      <td>62594</td>\n",
       "      <td>929</td>\n",
       "      <td>subscription</td>\n",
       "      <td>1_month</td>\n",
       "      <td>1</td>\n",
       "      <td>2019-02-08</td>\n",
       "      <td>30.0</td>\n",
       "      <td>30</td>\n",
       "      <td>1</td>\n",
       "      <td>0</td>\n",
       "      <td>0.0</td>\n",
       "    </tr>\n",
       "    <tr>\n",
       "      <th>3</th>\n",
       "      <td>68918</td>\n",
       "      <td>929</td>\n",
       "      <td>subscription</td>\n",
       "      <td>1_month</td>\n",
       "      <td>2</td>\n",
       "      <td>2019-03-19</td>\n",
       "      <td>30.0</td>\n",
       "      <td>30</td>\n",
       "      <td>1</td>\n",
       "      <td>1</td>\n",
       "      <td>0.0</td>\n",
       "    </tr>\n",
       "    <tr>\n",
       "      <th>4</th>\n",
       "      <td>91900</td>\n",
       "      <td>929</td>\n",
       "      <td>subscription</td>\n",
       "      <td>3_month</td>\n",
       "      <td>1</td>\n",
       "      <td>2018-10-29</td>\n",
       "      <td>30.0</td>\n",
       "      <td>90</td>\n",
       "      <td>0</td>\n",
       "      <td>0</td>\n",
       "      <td>60.0</td>\n",
       "    </tr>\n",
       "  </tbody>\n",
       "</table>\n",
       "</div>"
      ],
      "text/plain": [
       "   user_id  service_id  product_name product_duration  rn   sale_date  \\\n",
       "0    47233         929  subscription          1_month   1  2018-12-21   \n",
       "1    50195         929  subscription          1_month   1  2019-03-17   \n",
       "2    62594         929  subscription          1_month   1  2019-02-08   \n",
       "3    68918         929  subscription          1_month   2  2019-03-19   \n",
       "4    91900         929  subscription          3_month   1  2018-10-29   \n",
       "\n",
       "   last_duration_days  new_duration_days  is_same  group  differ  \n",
       "0                30.0                 30        1      0     0.0  \n",
       "1                30.0                 30        1      1     0.0  \n",
       "2                30.0                 30        1      0     0.0  \n",
       "3                30.0                 30        1      1     0.0  \n",
       "4                30.0                 90        0      0    60.0  "
      ]
     },
     "execution_count": 5,
     "metadata": {},
     "output_type": "execute_result"
    }
   ],
   "source": [
    "df1.head()"
   ]
  },
  {
   "cell_type": "code",
   "execution_count": 6,
   "metadata": {},
   "outputs": [],
   "source": [
    "test = df1.query('group == 1').differ\n",
    "control = df1.query('group == 0').differ"
   ]
  },
  {
   "cell_type": "code",
   "execution_count": 7,
   "metadata": {},
   "outputs": [
    {
     "data": {
      "text/plain": [
       "1.994826536822885"
      ]
     },
     "execution_count": 7,
     "metadata": {},
     "output_type": "execute_result"
    }
   ],
   "source": [
    "test.mean()"
   ]
  },
  {
   "cell_type": "code",
   "execution_count": 8,
   "metadata": {},
   "outputs": [
    {
     "data": {
      "text/plain": [
       "2.139003987178485"
      ]
     },
     "execution_count": 8,
     "metadata": {},
     "output_type": "execute_result"
    }
   ],
   "source": [
    "control.mean()"
   ]
  },
  {
   "cell_type": "code",
   "execution_count": 9,
   "metadata": {},
   "outputs": [],
   "source": [
    "from scipy import stats as sts\n"
   ]
  },
  {
   "cell_type": "code",
   "execution_count": 10,
   "metadata": {},
   "outputs": [],
   "source": [
    "mean_tr = test.mean()\n",
    "std_tr = test.std(ddof=1)\n",
    "len_tr = len(test)\n",
    "\n",
    "mean_fs =control.mean()\n",
    "std_fs = control.std(ddof=1)\n",
    "len_fs = len(control)\n",
    "\n",
    "alpha = 0.05\n",
    "norm_rv = sts.norm()\n",
    "z_stat_alpha = norm_rv.ppf(1 - alpha/2)\n",
    "\n",
    "\n",
    "z_obs = (mean_tr - mean_fs)/np.sqrt(std_fs**2/len_fs + std_tr**2/len_tr)"
   ]
  },
  {
   "cell_type": "code",
   "execution_count": 11,
   "metadata": {
    "deletable": false,
    "nbgrader": {
     "cell_type": "code",
     "checksum": "abff103ab41763fc052dca962943d349",
     "grade": false,
     "grade_id": "cell-62ddf31733694201",
     "locked": false,
     "schema_version": 3,
     "solution": true,
     "task": false
    }
   },
   "outputs": [],
   "source": [
    "### ╰( ͡° ͜ʖ ͡° )つ▬▬ι═══════  bzzzzzzzzzz\n",
    "# will the code be with you\n",
    "\n",
    "z_obs = (mean_tr - mean_fs)/np.sqrt(std_fs**2/len_fs + std_tr**2/len_tr)\n",
    "pvalue = 2*(1 - norm_rv.cdf(np.abs(z_obs)))\n",
    "\n",
    "# your code here\n"
   ]
  },
  {
   "cell_type": "code",
   "execution_count": 12,
   "metadata": {
    "deletable": false,
    "editable": false,
    "nbgrader": {
     "cell_type": "code",
     "checksum": "772e95b8b784d307dcdaaf8f4a3f07bf",
     "grade": true,
     "grade_id": "cell-15ae7f9f303d1b04",
     "locked": true,
     "points": 1,
     "schema_version": 3,
     "solution": false,
     "task": false
    }
   },
   "outputs": [],
   "source": [
    "# проверка того, что задание решено верно\n",
    "assert np.abs(z_obs) < 1\n",
    "assert np.abs(z_obs) > 0.7\n",
    "\n",
    "# подобные тесты скрыты от вас \n"
   ]
  },
  {
   "cell_type": "markdown",
   "metadata": {},
   "source": [
    "__б)__ А теперь представим, что мы продвинутые АБ-тестеры и решили провести ААБ тест (2 контрольные группы и одну тестовую)."
   ]
  },
  {
   "cell_type": "code",
   "execution_count": 13,
   "metadata": {},
   "outputs": [
    {
     "name": "stdout",
     "output_type": "stream",
     "text": [
      "(25935, 10)\n"
     ]
    },
    {
     "data": {
      "text/html": [
       "<div>\n",
       "<style scoped>\n",
       "    .dataframe tbody tr th:only-of-type {\n",
       "        vertical-align: middle;\n",
       "    }\n",
       "\n",
       "    .dataframe tbody tr th {\n",
       "        vertical-align: top;\n",
       "    }\n",
       "\n",
       "    .dataframe thead th {\n",
       "        text-align: right;\n",
       "    }\n",
       "</style>\n",
       "<table border=\"1\" class=\"dataframe\">\n",
       "  <thead>\n",
       "    <tr style=\"text-align: right;\">\n",
       "      <th></th>\n",
       "      <th>user_id</th>\n",
       "      <th>service_id</th>\n",
       "      <th>product_name</th>\n",
       "      <th>product_duration</th>\n",
       "      <th>rn</th>\n",
       "      <th>sale_date</th>\n",
       "      <th>last_duration_days</th>\n",
       "      <th>new_duration_days</th>\n",
       "      <th>is_same</th>\n",
       "      <th>new_group</th>\n",
       "    </tr>\n",
       "  </thead>\n",
       "  <tbody>\n",
       "    <tr>\n",
       "      <th>0</th>\n",
       "      <td>47233</td>\n",
       "      <td>929</td>\n",
       "      <td>subscription</td>\n",
       "      <td>1_month</td>\n",
       "      <td>1</td>\n",
       "      <td>2018-12-21</td>\n",
       "      <td>30.0</td>\n",
       "      <td>30</td>\n",
       "      <td>1</td>\n",
       "      <td>0</td>\n",
       "    </tr>\n",
       "    <tr>\n",
       "      <th>1</th>\n",
       "      <td>50195</td>\n",
       "      <td>929</td>\n",
       "      <td>subscription</td>\n",
       "      <td>1_month</td>\n",
       "      <td>1</td>\n",
       "      <td>2019-03-17</td>\n",
       "      <td>30.0</td>\n",
       "      <td>30</td>\n",
       "      <td>1</td>\n",
       "      <td>2</td>\n",
       "    </tr>\n",
       "    <tr>\n",
       "      <th>2</th>\n",
       "      <td>62594</td>\n",
       "      <td>929</td>\n",
       "      <td>subscription</td>\n",
       "      <td>1_month</td>\n",
       "      <td>1</td>\n",
       "      <td>2019-02-08</td>\n",
       "      <td>30.0</td>\n",
       "      <td>30</td>\n",
       "      <td>1</td>\n",
       "      <td>0</td>\n",
       "    </tr>\n",
       "    <tr>\n",
       "      <th>3</th>\n",
       "      <td>68918</td>\n",
       "      <td>929</td>\n",
       "      <td>subscription</td>\n",
       "      <td>1_month</td>\n",
       "      <td>2</td>\n",
       "      <td>2019-03-19</td>\n",
       "      <td>30.0</td>\n",
       "      <td>30</td>\n",
       "      <td>1</td>\n",
       "      <td>2</td>\n",
       "    </tr>\n",
       "    <tr>\n",
       "      <th>4</th>\n",
       "      <td>91900</td>\n",
       "      <td>929</td>\n",
       "      <td>subscription</td>\n",
       "      <td>3_month</td>\n",
       "      <td>1</td>\n",
       "      <td>2018-10-29</td>\n",
       "      <td>30.0</td>\n",
       "      <td>90</td>\n",
       "      <td>0</td>\n",
       "      <td>0</td>\n",
       "    </tr>\n",
       "  </tbody>\n",
       "</table>\n",
       "</div>"
      ],
      "text/plain": [
       "   user_id  service_id  product_name product_duration  rn   sale_date  \\\n",
       "0    47233         929  subscription          1_month   1  2018-12-21   \n",
       "1    50195         929  subscription          1_month   1  2019-03-17   \n",
       "2    62594         929  subscription          1_month   1  2019-02-08   \n",
       "3    68918         929  subscription          1_month   2  2019-03-19   \n",
       "4    91900         929  subscription          3_month   1  2018-10-29   \n",
       "\n",
       "   last_duration_days  new_duration_days  is_same  new_group  \n",
       "0                30.0                 30        1          0  \n",
       "1                30.0                 30        1          2  \n",
       "2                30.0                 30        1          0  \n",
       "3                30.0                 30        1          2  \n",
       "4                30.0                 90        0          0  "
      ]
     },
     "execution_count": 13,
     "metadata": {},
     "output_type": "execute_result"
    }
   ],
   "source": [
    "df2 = pd.read_csv('subscribers_2.csv', sep=',')\n",
    "print(df2.shape)\n",
    "df2.head( )"
   ]
  },
  {
   "cell_type": "markdown",
   "metadata": {},
   "source": [
    "* `new_group` - группа теста, в которую попал пользователь. $2$ - тест, $0,1$ - контроль."
   ]
  },
  {
   "cell_type": "markdown",
   "metadata": {},
   "source": [
    "Проверьте гипотезу о том, что в каждой из контрольных групп среднее совпадает с тестовой на уровне значимости $1\\%$. Получившиеся $p$-значения запишите в переменные `pval_1` и `pval_2`. Сделайте корректировку методом Холма. Запишите количество отвергнутых гипотез в переменную `hyp_cnt`. "
   ]
  },
  {
   "cell_type": "code",
   "execution_count": 14,
   "metadata": {},
   "outputs": [],
   "source": [
    "df2['differ'] = df2.new_duration_days - df2.last_duration_days"
   ]
  },
  {
   "cell_type": "code",
   "execution_count": 15,
   "metadata": {},
   "outputs": [
    {
     "data": {
      "text/plain": [
       "2    8831\n",
       "1    8595\n",
       "0    8509\n",
       "Name: new_group, dtype: int64"
      ]
     },
     "execution_count": 15,
     "metadata": {},
     "output_type": "execute_result"
    }
   ],
   "source": [
    "df2.new_group.value_counts()"
   ]
  },
  {
   "cell_type": "code",
   "execution_count": 17,
   "metadata": {},
   "outputs": [],
   "source": [
    "test = df2.query('new_group == 2').differ\n",
    "control_1 = df2.query('new_group == 0').differ\n",
    "control_2 = df2.query('new_group == 1').differ"
   ]
  },
  {
   "cell_type": "code",
   "execution_count": 18,
   "metadata": {},
   "outputs": [],
   "source": [
    "mean_tr = test.mean()\n",
    "std_tr = test.std(ddof=1)\n",
    "len_tr = len(test)\n",
    "\n",
    "mean_fs_1 =control_1.mean()\n",
    "std_fs_1 = control_1.std(ddof=1)\n",
    "len_fs_1 = len(control_1)\n",
    "\n",
    "mean_fs_2 =control_2.mean()\n",
    "std_fs_2 = control_2.std(ddof=1)\n",
    "len_fs_2 = len(control_2)\n",
    "\n",
    "\n",
    "alpha = 0.05\n",
    "norm_rv = sts.norm()\n",
    "\n",
    "z_obs_1 = (mean_tr - mean_fs_1)/np.sqrt(std_fs_1**2/len_fs_1 + std_tr**2/len_tr)\n",
    "z_obs_2 = (mean_tr - mean_fs_2)/np.sqrt(std_fs_2**2/len_fs_2 + std_tr**2/len_tr)"
   ]
  },
  {
   "cell_type": "code",
   "execution_count": 19,
   "metadata": {},
   "outputs": [],
   "source": [
    "from statsmodels.sandbox.stats.multicomp import multipletests \n"
   ]
  },
  {
   "cell_type": "code",
   "execution_count": 20,
   "metadata": {
    "deletable": false,
    "nbgrader": {
     "cell_type": "code",
     "checksum": "7dbeb0e4bd70bbf5ca2a786c94e0eff3",
     "grade": false,
     "grade_id": "cell-e72008defcd8a206",
     "locked": false,
     "schema_version": 3,
     "solution": true,
     "task": false
    }
   },
   "outputs": [],
   "source": [
    "### ╰( ͡° ͜ʖ ͡° )つ▬▬ι═══════  bzzzzzzzzzz\n",
    "# will the code be with you\n",
    "\n",
    "pval_1 = 2*(1 - norm_rv.cdf(np.abs(z_obs_1)))\n",
    "pval_2 = 2*(1 - norm_rv.cdf(np.abs(z_obs_2)))\n",
    "\n",
    "rejected, p_corrected, _, _ = multipletests([pval_1, pval_2], \n",
    "                                            alpha = 0.05, \n",
    "                                            method = 'holm') \n",
    "\n",
    "hyp_cnt = np.sum([p_corrected < 0.01])\n",
    "\n",
    "# your code here\n"
   ]
  },
  {
   "cell_type": "code",
   "execution_count": 21,
   "metadata": {
    "deletable": false,
    "editable": false,
    "nbgrader": {
     "cell_type": "code",
     "checksum": "499e2b0b4544d9defbd834ec238696df",
     "grade": true,
     "grade_id": "cell-e215872b40397664",
     "locked": true,
     "points": 1,
     "schema_version": 3,
     "solution": false,
     "task": false
    }
   },
   "outputs": [],
   "source": [
    "# проверка того, что задание решено верно\n",
    "assert pval_1 < 0.5\n",
    "assert pval_1 > 0.4\n",
    "assert pval_2 > 0.3\n",
    "assert pval_2 < 0.4\n",
    "\n",
    "# подобные тесты скрыты от вас "
   ]
  },
  {
   "cell_type": "markdown",
   "metadata": {},
   "source": [
    "Какие выводы можно сделать из этого теста?  Валиден ли такой тест?  Если нет, то в чем может быть проблема? Если тут вообще смысл делать поправку Холма?"
   ]
  },
  {
   "cell_type": "markdown",
   "metadata": {},
   "source": [
    " "
   ]
  }
 ],
 "metadata": {
  "kernelspec": {
   "display_name": "Python 3",
   "language": "python",
   "name": "python3"
  },
  "language_info": {
   "codemirror_mode": {
    "name": "ipython",
    "version": 3
   },
   "file_extension": ".py",
   "mimetype": "text/x-python",
   "name": "python",
   "nbconvert_exporter": "python",
   "pygments_lexer": "ipython3",
   "version": "3.7.6"
  }
 },
 "nbformat": 4,
 "nbformat_minor": 2
}
